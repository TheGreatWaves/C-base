{
  "cells": [
    {
      "cell_type": "markdown",
      "metadata": {
        "id": "view-in-github",
        "colab_type": "text"
      },
      "source": [
        "<a href=\"https://colab.research.google.com/github/TheGreatWaves/C-base/blob/main/training_notebook_non_dl.ipynb\" target=\"_parent\"><img src=\"https://colab.research.google.com/assets/colab-badge.svg\" alt=\"Open In Colab\"/></a>"
      ]
    },
    {
      "cell_type": "code",
      "execution_count": 11,
      "metadata": {
        "id": "joalvPPIEovi"
      },
      "outputs": [],
      "source": [
        "import os\n",
        "\n",
        "import numpy as np\n",
        "from numpy import ndarray\n",
        "import pandas as pd\n",
        "import random\n",
        "\n",
        "import librosa\n",
        "\n",
        "from sklearn.model_selection import train_test_split\n",
        "\n",
        "import matplotlib.pyplot as plt\n",
        "import IPython.display as ipd\n",
        "import librosa.display\n",
        "\n",
        "from tqdm import tqdm\n",
        "\n",
        "import tqdm\n",
        "\n",
        "import glob\n",
        "import torch\n",
        "\n",
        "from pathlib import Path"
      ]
    },
    {
      "cell_type": "code",
      "execution_count": 12,
      "metadata": {
        "colab": {
          "base_uri": "https://localhost:8080/",
          "height": 36
        },
        "id": "0I4Jsfwxqda-",
        "outputId": "055d2edd-4e1f-4c20-f461-acb49cab0879"
      },
      "outputs": [
        {
          "output_type": "execute_result",
          "data": {
            "text/plain": [
              "'0.10.1'"
            ],
            "application/vnd.google.colaboratory.intrinsic+json": {
              "type": "string"
            }
          },
          "metadata": {},
          "execution_count": 12
        }
      ],
      "source": [
        "librosa.__version__"
      ]
    },
    {
      "cell_type": "code",
      "execution_count": 13,
      "metadata": {
        "colab": {
          "base_uri": "https://localhost:8080/"
        },
        "id": "O00x13rfjSEp",
        "outputId": "5479d251-34a0-4dbc-8b82-6ede4c044ae2"
      },
      "outputs": [
        {
          "output_type": "stream",
          "name": "stdout",
          "text": [
            "Mounted at /content/drive\n"
          ]
        }
      ],
      "source": [
        "from google.colab import drive\n",
        "drive.mount('/content/drive', force_remount=True)"
      ]
    },
    {
      "cell_type": "code",
      "execution_count": 14,
      "metadata": {
        "colab": {
          "base_uri": "https://localhost:8080/",
          "height": 36
        },
        "id": "oFl-7zCtzEAS",
        "outputId": "3bad70b5-03fa-467d-95f3-60babf481798"
      },
      "outputs": [
        {
          "output_type": "execute_result",
          "data": {
            "text/plain": [
              "'cpu'"
            ],
            "application/vnd.google.colaboratory.intrinsic+json": {
              "type": "string"
            }
          },
          "metadata": {},
          "execution_count": 14
        }
      ],
      "source": [
        "device = \"cuda\" if torch.cuda.is_available() else \"cpu\"\n",
        "device"
      ]
    },
    {
      "cell_type": "code",
      "source": [
        "# Assumptions:\n",
        "# - The transcription file is located in the same directory as the audio files.\n",
        "class AudioDataset:\n",
        "  \"\"\"\n",
        "  Class for loading and storing audio data.\n",
        "  \"\"\"\n",
        "\n",
        "  def __init__(self):\n",
        "    self.df = pd.DataFrame(columns=['id', 'path', 'transcription'])\n",
        "\n",
        "  def load_transcriptions(self, directory_path: str) -> bool:\n",
        "    \"\"\"\n",
        "    Load all transcriptions from a given directory, including subdirectories.\n",
        "    Returns False if no transcription files were found, or if any failed to load.\n",
        "    \"\"\"\n",
        "    sound_names = glob.glob(\n",
        "        f\"{directory_path}/**/*.wav\",\n",
        "        recursive=True\n",
        "    )\n",
        "\n",
        "    if len(sound_names) == 0:\n",
        "      return False\n",
        "\n",
        "    for path in sound_names:\n",
        "      if not self.load_transcription_file(path):\n",
        "        return False\n",
        "\n",
        "    return True\n",
        "\n",
        "\n",
        "\n",
        "  def load_transcription_file(self, file_path: str) -> bool:\n",
        "    \"\"\"\n",
        "    Parse transcription file and records the audio ID - subtitle mapping.\n",
        "    Returns False if the file could not be read.\n",
        "    \"\"\"\n",
        "\n",
        "    file_directory = Path(file_path).parent\n",
        "    file_name = Path(file_path).stem\n",
        "    self.df.loc[len(self.df)] = {\n",
        "        'id':file_name,\n",
        "        'transcription':file_directory.name,\n",
        "        'path': f'{file_directory}/{file_name}.wav'\n",
        "    }\n",
        "    return True\n",
        "\n",
        "  def keys(self):\n",
        "    return iter(self.df['id'])\n",
        "\n",
        "  def get(self, id: int):\n",
        "    \"\"\"\n",
        "    Retrieve a dataframe row from ID.\n",
        "    \"\"\"\n",
        "    return self.df.loc[self.df['id'] == id]"
      ],
      "metadata": {
        "id": "s5MsALQX_47K"
      },
      "execution_count": 15,
      "outputs": []
    },
    {
      "cell_type": "code",
      "source": [
        "random.seed(42)\n",
        "\n",
        "def split_dataframe(df, ratio):\n",
        "    # Shuffle the DataFrame\n",
        "    df_shuffled = df.sample(frac=1, random_state=42).reset_index(drop=True)\n",
        "\n",
        "    # Calculate the split index\n",
        "    split_index = int(len(df_shuffled) * ratio)\n",
        "\n",
        "    # Split the DataFrame\n",
        "    df_1 = df_shuffled.iloc[:split_index]\n",
        "    #df_2 = df_shuffled.iloc[split_index:] unneeded for training\n",
        "\n",
        "    return df_1"
      ],
      "metadata": {
        "id": "U1daEXDhmTPy"
      },
      "execution_count": 16,
      "outputs": []
    },
    {
      "cell_type": "code",
      "source": [
        "df_dict = {}"
      ],
      "metadata": {
        "id": "5yKBHPxjqa8_"
      },
      "execution_count": 25,
      "outputs": []
    },
    {
      "cell_type": "code",
      "source": [
        "all_subdirectories = glob.glob(\n",
        "        f\"/content/drive/MyDrive/datasets/single_words/*\",\n",
        "        recursive=True\n",
        ")\n",
        "\n",
        "for i in tqdm.tqdm(range(len(all_subdirectories))):\n",
        "  path = all_subdirectories[i]\n",
        "  fruit_label = Path(path).name\n",
        "  ds = AudioDataset()\n",
        "  if ds.load_transcriptions(path):\n",
        "    df_dict[fruit_label] = split_dataframe(ds.df, 0.8)"
      ],
      "metadata": {
        "id": "dVwBCsJEqj8f",
        "outputId": "e0e348d2-5fc6-4b4c-f070-1210d8924b27",
        "colab": {
          "base_uri": "https://localhost:8080/"
        }
      },
      "execution_count": null,
      "outputs": [
        {
          "output_type": "stream",
          "name": "stderr",
          "text": [
            " 17%|█▋        | 5/30 [00:52<04:17, 10.29s/it]"
          ]
        }
      ]
    },
    {
      "cell_type": "code",
      "execution_count": null,
      "metadata": {
        "id": "ZKy7iv3DWBZY"
      },
      "outputs": [],
      "source": [
        "df_dict"
      ]
    },
    {
      "cell_type": "code",
      "source": [
        "sample_df = df_dict['bed']\n",
        "sample_input_file = sample_df['path'].iloc[0]\n",
        "print(\"Selected input file: \", sample_input_file)"
      ],
      "metadata": {
        "id": "4FhZYcC5_6XN"
      },
      "execution_count": null,
      "outputs": []
    },
    {
      "cell_type": "code",
      "source": [
        "audio, sampling_freq = librosa.load(sample_input_file)\n",
        "pd.Series(audio).plot(figsize=(10, 5),lw=1, title=\"Audio signal\", xlabel=\"Time\", ylabel=\"Amplitude\")"
      ],
      "metadata": {
        "id": "tCwPqPqkATIA"
      },
      "execution_count": null,
      "outputs": []
    },
    {
      "cell_type": "code",
      "source": [
        "fft = np.fft.fft(audio)\n",
        "\n",
        "magnitude = np.abs(fft)\n",
        "frequency = np.linspace(0, sampling_freq, len(magnitude))\n",
        "\n",
        "left_freq = frequency[:int(len(frequency)/2)]\n",
        "left_mag = magnitude[:int(len(frequency)/2)]\n",
        "\n",
        "plt.plot(left_freq, left_mag)\n",
        "plt.xlabel(\"Frequency\")\n",
        "plt.ylabel(\"Amplitude\")\n",
        "plt.title(\"Power Spectrum\")"
      ],
      "metadata": {
        "id": "VIFu6OHF6_Kq"
      },
      "execution_count": null,
      "outputs": []
    },
    {
      "cell_type": "code",
      "source": [
        "n_fft = 2048\n",
        "hop_length = 512\n",
        "\n",
        "stft = librosa.core.stft(audio, hop_length=hop_length, n_fft=n_fft)\n",
        "spectrogram = np.abs(stft)\n",
        "\n",
        "log_spectrogram = librosa.amplitude_to_db(spectrogram)\n",
        "\n",
        "librosa.display.specshow(log_spectrogram, sr=sampling_freq, hop_length=hop_length)\n",
        "plt.xlabel(\"Time\")\n",
        "plt.ylabel(\"Frequency\")\n",
        "plt.colorbar()\n",
        "plt.show()\n"
      ],
      "metadata": {
        "id": "fC-c-NIi9qFv"
      },
      "execution_count": null,
      "outputs": []
    },
    {
      "cell_type": "code",
      "source": [
        "mfccs = librosa.feature.mfcc(y=audio, n_fft=n_fft, hop_length=hop_length, n_mfcc=15)\n",
        "librosa.display.specshow(mfccs, sr=sampling_freq, hop_length=hop_length)\n",
        "plt.xlabel(\"Time\")\n",
        "plt.ylabel(\"MFCC\")\n",
        "plt.colorbar()\n",
        "plt.show()"
      ],
      "metadata": {
        "id": "7mcrgK2n9xSJ"
      },
      "execution_count": null,
      "outputs": []
    },
    {
      "cell_type": "markdown",
      "metadata": {
        "id": "vUEkvJCdpukC"
      },
      "source": [
        "### Extracting Features"
      ]
    },
    {
      "cell_type": "code",
      "execution_count": null,
      "metadata": {
        "id": "Xn_bykkYrAsW"
      },
      "outputs": [],
      "source": [
        "# from librosa.feature import mfcc\n",
        "# import librosa\n",
        "# audio, sampling_freq = librosa.load(ds.df.head()['path'].values[0])\n",
        "# mfcc_features = librosa.feature.mfcc(sr=sampling_freq, y=audio)\n",
        "# print('\\nNumber of windows =', mfcc_features.shape[0])\n",
        "# print('Length of each feature =', mfcc_features.shape[1])"
      ]
    },
    {
      "cell_type": "code",
      "execution_count": null,
      "metadata": {
        "id": "K6xerVMEP_U2"
      },
      "outputs": [],
      "source": [
        "# mfcc_features = mfcc_features.T\n",
        "# plt.matshow(mfcc_features)\n",
        "# plt.title('MFCC')"
      ]
    },
    {
      "cell_type": "code",
      "execution_count": null,
      "metadata": {
        "id": "B9BvQpBmmA-_"
      },
      "outputs": [],
      "source": [
        "!pip install hmmlearn\n",
        "!pip install features"
      ]
    },
    {
      "cell_type": "code",
      "execution_count": null,
      "metadata": {
        "id": "_H-mpoRAmDd6"
      },
      "outputs": [],
      "source": [
        "import os\n",
        "import numpy as np\n",
        "from scipy.io import wavfile\n",
        "from hmmlearn import hmm #importing GaussianHMM\n",
        "import librosa # reading wavefilesfrom librosa.feature import mfcc #to extract mfcc features"
      ]
    },
    {
      "cell_type": "code",
      "execution_count": null,
      "metadata": {
        "id": "e9pLjDWuQtqI"
      },
      "outputs": [],
      "source": [
        "class HMMTrainer(object):\n",
        "  def __init__(self, model_name='GaussianHMM', n_components=4):\n",
        "     self.model_name = model_name\n",
        "     self.n_components = n_components\n",
        "\n",
        "     self.models = []\n",
        "     if self.model_name == 'GaussianHMM':\n",
        "        self.model=hmm.GaussianHMM(n_components=4)\n",
        "     else:\n",
        "        print(\"Please choose GaussianHMM\")\n",
        "\n",
        "  def train(self, X):\n",
        "      self.models.append(self.model.fit(X))\n",
        "\n",
        "  def get_score(self, input_data):\n",
        "      return self.model.score(input_data)"
      ]
    },
    {
      "cell_type": "code",
      "source": [
        "hmm_models = []\n",
        "items = list(df_dict.items())\n",
        "for i in tqdm.tqdm(range(len(items))):\n",
        "  df = items[i]\n",
        "  fruit_label = df[0]\n",
        "  X = np.array([])\n",
        "  for index, row in df[1].iloc[:-1,:15].iterrows():\n",
        "    # Read the input file\n",
        "    audio, sampling_freq = librosa.load(row['path'])\n",
        "    # Extract MFCC features\n",
        "    mfcc_features = librosa.feature.mfcc(sr=sampling_freq, y=audio)\n",
        "    # Append to the variable X\n",
        "    if len(X) == 0:\n",
        "      X = mfcc_features[:, :15]  # 15 here denotes the number of MFCC coefficients to consider\n",
        "    else:\n",
        "      X = np.append(X, mfcc_features[:, :15], axis=0)\n",
        "    # Append the label\n",
        "    # print('X.shape =', X.shape)\n",
        "\n",
        "  # Train HMM model for this iteration\n",
        "  hmm_trainer = HMMTrainer()\n",
        "  hmm_trainer.train(X)  # Train using the current MFCC features\n",
        "  hmm_models.append((hmm_trainer, fruit_label))\n"
      ],
      "metadata": {
        "id": "sd7pFP7Bs5i0"
      },
      "execution_count": null,
      "outputs": []
    },
    {
      "cell_type": "code",
      "source": [
        "print(len(hmm_models))"
      ],
      "metadata": {
        "id": "sE3dUaKwuQEZ"
      },
      "execution_count": null,
      "outputs": []
    },
    {
      "cell_type": "code",
      "source": [
        "test_files = {}\n",
        "\n",
        "for df in df_dict.items():\n",
        "  truth_label = df[0]\n",
        "  selected_test = df[1].iloc[-1,:]\n",
        "  test_files[truth_label] = selected_test['path']"
      ],
      "metadata": {
        "id": "Ye6wJvkau7wf"
      },
      "execution_count": null,
      "outputs": []
    },
    {
      "cell_type": "code",
      "source": [
        "print(test_files)"
      ],
      "metadata": {
        "id": "edSWkOzbvXXZ"
      },
      "execution_count": null,
      "outputs": []
    },
    {
      "cell_type": "code",
      "source": [
        "for truth_label, path in test_files.items():\n",
        "  audio, sampling_freq = librosa.load(path)\n",
        "  # Extract MFCC features\n",
        "  mfcc_features = librosa.feature.mfcc(sr=sampling_freq, y=audio)\n",
        "  X = mfcc_features[:, :15]\n",
        "  scores = []\n",
        "  for hmm_model, label in hmm_models:\n",
        "    score = hmm_model.get_score(X)\n",
        "    scores.append(score)\n",
        "  index = np.array(scores).argmax()\n",
        "  # Print the output\n",
        "  print(\"\\nTrue:\", truth_label)\n",
        "  print(\"Predicted:\", hmm_models[index][1])"
      ],
      "metadata": {
        "id": "Nn0DxbNAva6g"
      },
      "execution_count": null,
      "outputs": []
    },
    {
      "cell_type": "code",
      "source": [
        "#!pip install torchaudio ipywebrtc"
      ],
      "metadata": {
        "id": "JNLj_pPu_SFM"
      },
      "execution_count": null,
      "outputs": []
    },
    {
      "cell_type": "code",
      "source": [
        "# # Download a static FFmpeg build and add it to PATH.\n",
        "# exist = !which ffmpeg\n",
        "# if not exist:\n",
        "#   !curl https://johnvansickle.com/ffmpeg/releases/ffmpeg-release-amd64-static.tar.xz -o ffmpeg.tar.xz \\\n",
        "#      && tar -xf ffmpeg.tar.xz && rm ffmpeg.tar.xz\n",
        "#   ffmdir = !find . -iname ffmpeg-*-static\n",
        "#   path = %env PATH\n",
        "#   path = path + ':' + ffmdir[0]\n",
        "#   %env PATH $path\n",
        "# print('')\n",
        "# !which ffmpeg\n",
        "# print('Done!')"
      ],
      "metadata": {
        "id": "Eu4Hyy9_ApKs"
      },
      "execution_count": null,
      "outputs": []
    },
    {
      "cell_type": "code",
      "source": [
        "# from ipywebrtc import AudioRecorder, CameraStream\n",
        "# import torchaudio\n",
        "# from IPython.display import Audio\n",
        "\n",
        "# from google.colab import output\n",
        "# output.enable_custom_widget_manager()"
      ],
      "metadata": {
        "id": "zpnBh8Mj_yJe"
      },
      "execution_count": null,
      "outputs": []
    },
    {
      "cell_type": "code",
      "source": [
        "# camera = CameraStream(constraints={'audio': True,'video':False})\n",
        "# recorder = AudioRecorder(stream=camera)\n",
        "# recorder"
      ],
      "metadata": {
        "id": "5ArqfZLk_0LD"
      },
      "execution_count": null,
      "outputs": []
    },
    {
      "cell_type": "code",
      "source": [
        "# # Write to recording.webm\n",
        "# with open('recording.webm', 'wb') as f:\n",
        "#     f.write(recorder.audio.value)\n",
        "\n",
        "# # Translate recording.wemb to file.wav\n",
        "# !ffmpeg -i recording.webm -ac 1 -f wav file.wav -y -hide_banner -loglevel panic\n",
        "\n",
        "# # Extract features from input and predict\n",
        "# input_audio, sr = librosa.load('file.wav')\n",
        "# mfcc_features = librosa.feature.mfcc(sr=sr, y=input_audio)\n",
        "# X = mfcc_features[:, :15]\n",
        "# scores = []\n",
        "# for hmm_model, label in hmm_models:\n",
        "#   score = hmm_model.get_score(X)\n",
        "#   scores.append(score)\n",
        "# index = np.array(scores).argmax()\n",
        "# print(\"Predicted:\", hmm_models[index][1])"
      ],
      "metadata": {
        "id": "GeKwvGZo_2EA"
      },
      "execution_count": null,
      "outputs": []
    },
    {
      "cell_type": "markdown",
      "source": [
        "# Saving the model\n"
      ],
      "metadata": {
        "id": "b31QY4FKzyRO"
      }
    },
    {
      "cell_type": "code",
      "source": [
        "try:\n",
        "    import cPickle as pickle\n",
        "except ModuleNotFoundError:\n",
        "    import pickle\n",
        "\n",
        "from google.colab import files"
      ],
      "metadata": {
        "id": "_irI9lu8z01X"
      },
      "execution_count": null,
      "outputs": []
    },
    {
      "cell_type": "code",
      "source": [
        "def save_object(obj, filename):\n",
        "    \"\"\"\n",
        "    Serialize object and store it in the newly\n",
        "    created file with the specified file name.\n",
        "\n",
        "    Note: This works for array as well.\n",
        "    \"\"\"\n",
        "\n",
        "    with open(f\"{filename}.pkl\", 'wb') as outp:\n",
        "        pickle.dump(obj, outp, pickle.HIGHEST_PROTOCOL)\n",
        "\n",
        "def load_object(filename):\n",
        "  \"\"\"\n",
        "  Load serialized object and return it. Exception will\n",
        "  be raised if the specified file is missing.\n",
        "  \"\"\"\n",
        "\n",
        "  with open(f\"{filename}.pkl\", 'rb') as inp:\n",
        "    return pickle.load(inp)\n",
        "  print(f\"File '{filename}.pkl' not found.\")\n",
        "\n",
        "# ==== Usage Example ====\n",
        "#\n",
        "#Save object:\n",
        "save_object(hmm_models, 'hmm_model')\n",
        "\n",
        "# Load object:\n",
        "# foo_obj = load_object('foo')"
      ],
      "metadata": {
        "id": "VKli60-sz4Yp"
      },
      "execution_count": null,
      "outputs": []
    },
    {
      "cell_type": "code",
      "source": [
        "files.download(\"hmm_model.pkl\")"
      ],
      "metadata": {
        "id": "wf3zPT6ztZLp"
      },
      "execution_count": null,
      "outputs": []
    },
    {
      "cell_type": "code",
      "source": [],
      "metadata": {
        "id": "Nv_kRPggunQm"
      },
      "execution_count": null,
      "outputs": []
    }
  ],
  "metadata": {
    "accelerator": "GPU",
    "colab": {
      "gpuType": "A100",
      "provenance": [],
      "machine_shape": "hm",
      "include_colab_link": true
    },
    "kernelspec": {
      "display_name": "Python 3",
      "name": "python3"
    },
    "language_info": {
      "name": "python"
    }
  },
  "nbformat": 4,
  "nbformat_minor": 0
}